{
 "cells": [
  {
   "cell_type": "markdown",
   "id": "431f926f",
   "metadata": {},
   "source": [
    "### Actividad Guiada 3\n",
    "\n",
    "#### Autor: Roger Amorós Sirera\n",
    "\n",
    "https://github.com/RogerAmoros13/algoritmos_de_optimizacion"
   ]
  },
  {
   "cell_type": "code",
   "execution_count": 1,
   "id": "d3c7b983",
   "metadata": {
    "collapsed": true
   },
   "outputs": [
    {
     "name": "stdout",
     "output_type": "stream",
     "text": [
      "Requirement already satisfied: requests in c:\\users\\roger\\appdata\\local\\programs\\python\\python311\\lib\\site-packages (2.30.0)\n",
      "Requirement already satisfied: charset-normalizer<4,>=2 in c:\\users\\roger\\appdata\\local\\programs\\python\\python311\\lib\\site-packages (from requests) (3.1.0)\n",
      "Requirement already satisfied: idna<4,>=2.5 in c:\\users\\roger\\appdata\\local\\programs\\python\\python311\\lib\\site-packages (from requests) (3.4)\n",
      "Requirement already satisfied: urllib3<3,>=1.21.1 in c:\\users\\roger\\appdata\\local\\programs\\python\\python311\\lib\\site-packages (from requests) (1.26.16)\n",
      "Requirement already satisfied: certifi>=2017.4.17 in c:\\users\\roger\\appdata\\local\\programs\\python\\python311\\lib\\site-packages (from requests) (2022.12.7)\n"
     ]
    },
    {
     "name": "stderr",
     "output_type": "stream",
     "text": [
      "\n",
      "[notice] A new release of pip available: 22.3.1 -> 23.1.2\n",
      "[notice] To update, run: python.exe -m pip install --upgrade pip\n"
     ]
    },
    {
     "name": "stdout",
     "output_type": "stream",
     "text": [
      "Requirement already satisfied: tsplib95 in c:\\users\\roger\\appdata\\local\\programs\\python\\python311\\lib\\site-packages (0.7.1)\n",
      "Requirement already satisfied: Click>=6.0 in c:\\users\\roger\\appdata\\local\\programs\\python\\python311\\lib\\site-packages (from tsplib95) (8.1.3)\n",
      "Requirement already satisfied: Deprecated~=1.2.9 in c:\\users\\roger\\appdata\\local\\programs\\python\\python311\\lib\\site-packages (from tsplib95) (1.2.14)\n",
      "Requirement already satisfied: networkx~=2.1 in c:\\users\\roger\\appdata\\local\\programs\\python\\python311\\lib\\site-packages (from tsplib95) (2.8.8)\n",
      "Requirement already satisfied: tabulate~=0.8.7 in c:\\users\\roger\\appdata\\local\\programs\\python\\python311\\lib\\site-packages (from tsplib95) (0.8.10)\n",
      "Requirement already satisfied: colorama in c:\\users\\roger\\appdata\\local\\programs\\python\\python311\\lib\\site-packages (from Click>=6.0->tsplib95) (0.4.6)\n",
      "Requirement already satisfied: wrapt<2,>=1.10 in c:\\users\\roger\\appdata\\local\\programs\\python\\python311\\lib\\site-packages (from Deprecated~=1.2.9->tsplib95) (1.14.1)\n"
     ]
    },
    {
     "name": "stderr",
     "output_type": "stream",
     "text": [
      "\n",
      "[notice] A new release of pip available: 22.3.1 -> 23.1.2\n",
      "[notice] To update, run: python.exe -m pip install --upgrade pip\n"
     ]
    }
   ],
   "source": [
    "# Instalación de librerias necesarias\n",
    "!pip install requests\n",
    "!pip install tsplib95\n",
    "\n",
    "import gzip"
   ]
  },
  {
   "cell_type": "code",
   "execution_count": 175,
   "id": "73618ea6",
   "metadata": {},
   "outputs": [],
   "source": [
    "\n",
    "def decompress(infile, tofile):\n",
    "    with open(infile, 'rb') as inf, open(tofile, 'w', encoding='utf8') as tof:\n",
    "        decom_str = gzip.decompress(inf.read()).decode('utf-8')\n",
    "        tof.write(decom_str)"
   ]
  },
  {
   "cell_type": "code",
   "execution_count": 176,
   "id": "110b9ac1",
   "metadata": {},
   "outputs": [],
   "source": [
    "import urllib\n",
    "import tsplib95\n",
    "import math\n",
    "import random\n",
    "import time\n",
    "\n",
    "file = \"swiss42.tsp\"\n",
    "urllib.request.urlretrieve(\"http://comopt.ifi.uni-heidelberg.de/software/TSPLIB95/tsp/swiss42.tsp.gz\", file + \".gz\")\n",
    "decompress(file+\".gz\", file)"
   ]
  },
  {
   "cell_type": "code",
   "execution_count": 177,
   "id": "742e5188",
   "metadata": {},
   "outputs": [],
   "source": [
    "problem = tsplib95.load(file)\n",
    "\n",
    "Nodos = list(problem.get_nodes())\n",
    "\n",
    "Aristas = list(problem.get_edges())\n",
    "\n",
    "# Nodos"
   ]
  },
  {
   "cell_type": "code",
   "execution_count": 178,
   "id": "e0b484e5",
   "metadata": {},
   "outputs": [],
   "source": [
    "# Al ser el nodo como tal un int, voy a cambiar la función de crear_nodos para utilizar la libreria\n",
    "# random.shuffle para \"barajar\" la lista. De esta manera evitamos el bucle y hacer broadcast entre \n",
    "# list y set, además de usar métodos que están de sobra implementados en python.\n",
    "def crear_solucion(Nodos=Nodos):\n",
    "    sol = Nodos.copy()[1:]\n",
    "    random.shuffle(sol)\n",
    "    sol = [0] + sol\n",
    "    return sol\n",
    "\n",
    "def distancia(a, b, problem=problem):\n",
    "    return problem.get_weight(a, b)\n",
    "\n",
    "def distancia_total(path, problem=problem):\n",
    "    dist = 0\n",
    "    n = len(path)\n",
    "    for i in range(n - 1):\n",
    "        dist += distancia(path[i], path[i+1], problem)\n",
    "    return dist + distancia(path[n-1], path[0], problem)"
   ]
  },
  {
   "cell_type": "code",
   "execution_count": 179,
   "id": "baf6b8d7",
   "metadata": {},
   "outputs": [
    {
     "name": "stdout",
     "output_type": "stream",
     "text": [
      "Mejor solución:  [0, 31, 28, 7, 2, 13, 15, 36, 33, 1, 12, 30, 22, 38, 34, 24, 39, 8, 16, 25, 21, 23, 3, 27, 35, 37, 20, 6, 32, 40, 9, 29, 4, 26, 14, 41, 10, 19, 5, 18, 11, 17]\n",
      "Distancia     :  3790\n"
     ]
    }
   ],
   "source": [
    "# Algoritmo que busca de manera aleatoria soluciones y se queda con la mejor\n",
    "# que ha encontrado.\n",
    "\n",
    "def busqueda_aleatoria(problem, N):\n",
    "    # N es el numero de iteraciones\n",
    "    best_sol = None\n",
    "    best_dist = float(\"inf\")\n",
    "    for i in range(N):\n",
    "        sol = crear_solucion()\n",
    "        dist = distancia_total(sol)\n",
    "        if dist < best_dist:\n",
    "            best_sol = sol\n",
    "            best_dist = dist\n",
    "    print(\"Mejor solución: \", best_sol)\n",
    "    print(\"Distancia     : \", best_dist)\n",
    "    return best_sol\n",
    "\n",
    "sol = busqueda_aleatoria(problem, 3000)"
   ]
  },
  {
   "cell_type": "code",
   "execution_count": 180,
   "id": "b6d77b47",
   "metadata": {},
   "outputs": [],
   "source": [
    "# Dada una solución comprueba cada uno de los swaps que puede realizar\n",
    "# entre distintos nodos para ver si mejora la solución.\n",
    "\n",
    "def genera_vecina(solucion, problem):\n",
    "    best_sol = None\n",
    "    best_dist = float(\"inf\")\n",
    "    len_sol = len(solucion)\n",
    "    for i in range(1, len_sol-1):\n",
    "        for j in range(i+1, len_sol):\n",
    "            vecina = solucion[:i] + [solucion[j]] + solucion[i+1:j] + [solucion[i]] + solucion[j+1:]\n",
    "            dist = distancia_total(vecina, problem)\n",
    "            if dist < best_dist:\n",
    "                best_dist = dist\n",
    "                best_sol = vecina\n",
    "#     print(\"Mejor solución: \", best_sol)\n",
    "#     print(\"Distancia     : \", best_dist)\n",
    "    return best_sol\n",
    "\n",
    "# Dada una solución comprueba que pasaría si se inserta cada uno de los nodos \n",
    "# en otra posición y si mejora lo guarda.\n",
    "\n",
    "def genera_insert(solucion, problem):\n",
    "    best_sol = None\n",
    "    best_dist = float(\"inf\")\n",
    "    len_sol = len(solucion)\n",
    "    for i in range(len_sol):\n",
    "        for j in range(len_sol):\n",
    "            if i == j:\n",
    "                continue\n",
    "            aux_list = solucion.copy()\n",
    "            val = aux_list.pop(i)\n",
    "            aux_list.insert(j, val)\n",
    "            dist = distancia_total(aux_list, problem)\n",
    "            if dist < best_dist:\n",
    "                best_dist = dist\n",
    "                best_sol = aux_list\n",
    "#     print(\"Mejor solución: \", best_sol)\n",
    "#     print(\"Distancia     : \", best_dist)\n",
    "    return best_sol"
   ]
  },
  {
   "cell_type": "code",
   "execution_count": 181,
   "id": "db974817",
   "metadata": {},
   "outputs": [],
   "source": [
    "# Esta función realiza una busqueda local por vecindad o inserción reiterativa\n",
    "# hasta que la solución ya no mejora.\n",
    "\n",
    "# Mejores resultados obtenidos: 1430, 1440, 1535, 1616\n",
    "\n",
    "def busqueda_local(ref_sol=False, mode=\"vecindad\", problem=problem):\n",
    "    # N es el numero de iteraciones\n",
    "    if mode == \"vecindad\":\n",
    "        func = genera_vecina\n",
    "    elif mode == \"insercion\":\n",
    "        func = genera_insert\n",
    "    best_sol = None\n",
    "    if not ref_sol:\n",
    "        ref_sol = crear_solucion(Nodos)\n",
    "    best_dist = distancia_total(ref_sol)\n",
    "    iteration = 0\n",
    "    while True:\n",
    "        iteration += 1\n",
    "        vecina = func(ref_sol, problem)\n",
    "        dist = distancia_total(vecina, problem)\n",
    "        if dist < best_dist:\n",
    "            best_sol = vecina\n",
    "            best_dist = dist\n",
    "            \n",
    "        else:\n",
    "#             print(\"Mejor solución: \", best_sol)\n",
    "#             print(\"Distancia     : \", best_dist)\n",
    "            return best_sol, best_dist\n",
    "        ref_sol = vecina\n",
    "\n",
    "sol = busqueda_local(mode=\"insercion\")"
   ]
  },
  {
   "cell_type": "code",
   "execution_count": 79,
   "id": "10d95225",
   "metadata": {},
   "outputs": [
    {
     "name": "stdout",
     "output_type": "stream",
     "text": [
      "Mejor solución:  [0, 32, 20, 33, 34, 30, 29, 39, 21, 40, 24, 38, 22, 9, 8, 28, 2, 27, 3, 4, 7, 31, 35, 36, 17, 37, 15, 16, 14, 19, 13, 18, 12, 11, 25, 41, 23, 10, 26, 5, 6, 1]\n",
      "Distancia     :  1528\n"
     ]
    }
   ],
   "source": [
    "# Este algoritmo es una combinación de los tres vistos anteriormente. Por un lado,\n",
    "# se genera una solución aleatoria a cada ciclo. A esta solución se le aplica una\n",
    "# busqueda local por vecindad y si se encuentra una solución mejor que la actual,\n",
    "# se le aplica a esta solución una busqueda local por inserción. \n",
    "\n",
    "# Este orden se puede invertir mediante el parámetro first_func. \n",
    "\n",
    "# La función se evalua por tiempo, siendo este aproximado, ya que puede sobrepasarse si\n",
    "# entra a un ciclo \"a última hora\", pero esto no será más de 10 segundos.\n",
    "\n",
    "# Resultados:\n",
    "# Vecindad --> Inserción: 1449, 1469, 1515, 1519, 1652, 1728, 1755\n",
    "# Inserción --> Vecindad: 1441, 1473, 1528, 1546, 1568, 1598, 1717\n",
    "\n",
    "# A mi parecer, los resultados con la busqueda local por inserción aporta mejores resultados\n",
    "# por lo que conviene realizarla en primera instancia y afinar con la busqueda local por vecindad.\n",
    "\n",
    "def multi_step(problem, time_sec=100, first_func=\"vecindad\"):\n",
    "    st = time.time()\n",
    "    et = time.time()\n",
    "    best_sol = None\n",
    "    best_dist = float(\"inf\")\n",
    "    if first_func == \"vecindad\":\n",
    "        func1 = genera_vecina\n",
    "        func2 = genera_insert \n",
    "    elif first_func == \"insercion\":\n",
    "        func1 = genera_insert \n",
    "        func2 = genera_vecina\n",
    "    \n",
    "    while et-st < time_sec:\n",
    "        ref_sol = crear_solucion(Nodos)\n",
    "        while True:\n",
    "            vecina = func1(ref_sol, problem)\n",
    "            dist = distancia_total(vecina, problem)\n",
    "            if dist < best_dist:\n",
    "                best_sol = vecina\n",
    "                best_dist = dist\n",
    "                vecina = func2(vecina, problem)\n",
    "                dist = distancia_total(vecina, problem)\n",
    "                if dist < best_dist:\n",
    "                    best_sol = vecina\n",
    "                    best_dist = dist\n",
    "                else:\n",
    "                    break\n",
    "                ref_sol = vecina\n",
    "            else:\n",
    "                break\n",
    "            ref_sol = vecina\n",
    "        et = time.time()\n",
    "\n",
    "    print(\"Mejor solución: \", best_sol)\n",
    "    print(\"Distancia     : \", best_dist)\n",
    "    return best_sol\n",
    "\n",
    "a = multi_step(problem, 60, \"insercion\")"
   ]
  },
  {
   "cell_type": "code",
   "execution_count": 186,
   "id": "219b5618",
   "metadata": {},
   "outputs": [],
   "source": [
    "# Algoritmo para obtener una solución voraz random. Se buscan los rand_set mejores\n",
    "# nodos para realizar el siguiente paso y se escoje uno al azar de estos.\n",
    "\n",
    "def greedy_randomized(Nodes=Nodos, problem=problem, rand_set=3):\n",
    "    nodes = Nodos.copy()\n",
    "    nodes.remove(0)\n",
    "    sol = [0]\n",
    "    while nodes:\n",
    "        candidate_nodes = []\n",
    "        best_dist = float(\"inf\")\n",
    "        worst_best_dist = float(\"inf\")\n",
    "        to_pop = []\n",
    "        for i, node in enumerate(nodes):\n",
    "            dist = distancia(node, sol[-1])\n",
    "            if not candidate_nodes:\n",
    "                candidate_nodes.append((i, node, dist))\n",
    "                continue\n",
    "            for j, cand in enumerate(candidate_nodes):\n",
    "                if dist < cand[2]:\n",
    "                    candidate_nodes.insert(j, (i, node, dist))\n",
    "                    break\n",
    "                if i > rand_set:\n",
    "                    break\n",
    "        res = random.choice(candidate_nodes)\n",
    "        sol.append(res[1])\n",
    "        nodes.pop(res[0])\n",
    "    return sol, distancia_total(sol)"
   ]
  },
  {
   "cell_type": "code",
   "execution_count": 190,
   "id": "da74700c",
   "metadata": {},
   "outputs": [
    {
     "name": "stdout",
     "output_type": "stream",
     "text": [
      "Mejor solución:  [17, 31, 32, 28, 27, 2, 3, 4, 5, 13, 19, 14, 16, 15, 37, 7, 0, 1, 6, 26, 18, 12, 11, 25, 10, 41, 23, 40, 24, 21, 39, 9, 8, 29, 30, 22, 38, 34, 33, 20, 35, 36]\n",
      "Distancia     :  1388\n"
     ]
    }
   ],
   "source": [
    "# Método de GRASP (Greedy randomize adaptive search procedure)\n",
    "\n",
    "# Con la función greedy_randomized encontramos soluciones distintas a cada iteración.\n",
    "# Después se le aplican las busquedas locales que hemos visto.\n",
    "\n",
    "# Ejecución con time_sec=60, max_iters=100\n",
    "\n",
    "# Resultados: 1315, 1333, 1386, 1388\n",
    "\n",
    "# Definitivamente esta es la mejor solución al problema. En 4 ejecuciones de 1~2 minutos se\n",
    "# obtienen soluciones suficientemente buenas.\n",
    "\n",
    "def grasp(problem, time_sec=100, first_func=\"insercion\", rand_set=3, max_iters=40):\n",
    "    st = time.time()\n",
    "    et = time.time()\n",
    "    best_sol = None\n",
    "    best_dist = float(\"inf\")\n",
    "    second_func = \"insercion\" if first_func==\"vecindad\" else \"vecindad\"\n",
    "    i = 0\n",
    "    while et-st < time_sec and i < max_iters:\n",
    "        i += 1\n",
    "        et = time.time()\n",
    "        cand_best_sol, cand_best_dist = greedy_randomized(Nodos, problem, rand_set)\n",
    "        if cand_best_dist < best_dist:\n",
    "            best_sol = cand_best_sol\n",
    "            best_dist = cand_best_dist\n",
    "        cand_best_sol, cand_best_dist = busqueda_local(cand_best_sol, first_func)\n",
    "        if cand_best_dist < best_dist:\n",
    "            best_sol = cand_best_sol\n",
    "            best_dist = cand_best_dist\n",
    "        cand_best_sol, cand_best_dist = busqueda_local(cand_best_sol, first_func)\n",
    "        if cand_best_dist < best_dist:\n",
    "            best_sol = cand_best_sol\n",
    "            best_dist = cand_best_dist\n",
    "    return best_sol, best_dist\n",
    "\n",
    "sol, dist = grasp(problem, time_sec=60, max_iters=100)\n",
    "print(\"Mejor solución: \", sol)\n",
    "print(\"Distancia     : \", dist)"
   ]
  }
 ],
 "metadata": {
  "kernelspec": {
   "display_name": "Python 3 (ipykernel)",
   "language": "python",
   "name": "python3"
  },
  "language_info": {
   "codemirror_mode": {
    "name": "ipython",
    "version": 3
   },
   "file_extension": ".py",
   "mimetype": "text/x-python",
   "name": "python",
   "nbconvert_exporter": "python",
   "pygments_lexer": "ipython3",
   "version": "3.11.1"
  }
 },
 "nbformat": 4,
 "nbformat_minor": 5
}
