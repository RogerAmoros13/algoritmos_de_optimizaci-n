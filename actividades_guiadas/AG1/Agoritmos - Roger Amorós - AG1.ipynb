{
 "cells": [
  {
   "cell_type": "markdown",
   "id": "8a0cf0aa",
   "metadata": {},
   "source": [
    "### Actividad Guiada 1\n",
    "\n",
    "#### Autor: Roger Amorós Sirera\n",
    "\n",
    "https://github.com/RogerAmoros13/algoritmos_de_optimizacion\n",
    "\n",
    "En el repositiorio esta subido el fichero *hanoi_app.py* donde esta implementado el algoritmo de Hanoi de manera visual que se resuelve solo de manera no recursiva."
   ]
  },
  {
   "cell_type": "code",
   "execution_count": 1,
   "id": "35d3154e",
   "metadata": {},
   "outputs": [],
   "source": [
    "# Ejercicio 1\n",
    "\n",
    "# Algoritmo recursivo para resolver la Torre de Hanoi visto en clase\n",
    "def hanoi_tower(n, orig, piv, dest):\n",
    "    if n == 1: # Condición de retorno de las llamadas recursivas\n",
    "        print(f\"Mover disco de {orig} a {dest}\")\n",
    "        return\n",
    "    hanoi_tower(n-1, orig, dest, piv)\n",
    "    print(f\"Mover disco de {orig} a {dest}\")\n",
    "    hanoi_tower(n-1, piv, orig, dest)"
   ]
  },
  {
   "cell_type": "code",
   "execution_count": 2,
   "id": "5956451c",
   "metadata": {},
   "outputs": [
    {
     "name": "stdout",
     "output_type": "stream",
     "text": [
      "Mover disco de 1 a 3\n",
      "Mover disco de 1 a 2\n",
      "Mover disco de 3 a 2\n",
      "Mover disco de 1 a 3\n",
      "Mover disco de 2 a 1\n",
      "Mover disco de 2 a 3\n",
      "Mover disco de 1 a 3\n"
     ]
    }
   ],
   "source": [
    "hanoi_tower(3, 1, 2, 3)"
   ]
  },
  {
   "cell_type": "code",
   "execution_count": 3,
   "id": "e4ef797c",
   "metadata": {},
   "outputs": [
    {
     "name": "stdout",
     "output_type": "stream",
     "text": [
      "[2, 1, 0, 0]\n",
      "[3, 1, 0, 1, 1, 0]\n",
      "[3.0, 1.0, 0.0, 1.0, 1.0, 0.0, 1.0, 0.0, 1.0, 1.0]\n"
     ]
    }
   ],
   "source": [
    "# Ejercicio 2\n",
    "\n",
    "# Función para calcular el cambio con la menor cantidad de monedas.\n",
    "# Ventajas sobre el algoritmo visto en clase:\n",
    "#   - No se precalcula el array de soluciones.\n",
    "#   - Se itera directamente sobre las monedas disponibles --> O(n) con n = len(monedas_disp)\n",
    "# Se modifica el valor pasado, pero se reduce la cantidad de variables almacenadas en memoria\n",
    "def cambio_monedas(valor, monedas_disp):\n",
    "    result = []\n",
    "    for moneda in monedas_disp:\n",
    "        times_used = valor // moneda\n",
    "        valor -= moneda * times_used\n",
    "        result.append(times_used)\n",
    "    return result\n",
    "\n",
    "print(cambio_monedas(27, [10, 7, 3, 2])) # Ejemplo random\n",
    "print(cambio_monedas(177, [50, 20, 10, 5, 2, 1])) # Monedas enteras convencionales\n",
    "print(cambio_monedas(177.65, [50, 20, 10, 5, 2, 1, .5, .2, .1, .05])) # Funciona con decimales"
   ]
  },
  {
   "cell_type": "code",
   "execution_count": 4,
   "id": "0c115cd8",
   "metadata": {},
   "outputs": [
    {
     "name": "stdout",
     "output_type": "stream",
     "text": [
      "[(20, 40), (13, 40), 7.0]\n"
     ]
    }
   ],
   "source": [
    "# Ejercicio 2\n",
    "\n",
    "import numpy as np\n",
    "\n",
    "# Tenemos que comparar todos los puntos entre si, por lo que es practicamente \n",
    "# obligatorio realizar dos bucles. \n",
    "# No obstante, podemos evitar varias comprobaciones\n",
    "# - Un punto consigo mismo.\n",
    "# - Un punto con otro pero en orden distinto.\n",
    "\n",
    "# Para esto, iteraremos primero por los elementos de la lista hasta el penultimo,\n",
    "# y anidaremos otro bucle que vaya desde el siguiente que se esta evaluando en el\n",
    "# bucle superior al último punto.\n",
    "\n",
    "# Vemos las comprobaciones realizadas con una lista de 4 puntos [1, 2, 3, 4]:\n",
    "# - 1. (1, 2)\n",
    "# - 2. (1, 3)\n",
    "# - 3. (1, 4)\n",
    "# - 4. (2, 3)\n",
    "# - 5. (2, 4)\n",
    "# - 6. (3, 4)\n",
    "\n",
    "def distancia_euclidea(point1, point2):\n",
    "    if isinstance(point1, int):\n",
    "        point1 = [point1]\n",
    "    if isinstance(point2, int):\n",
    "        point2 = [point2]\n",
    "    _sum = 0\n",
    "    for p1, p2 in zip(point1, point2):\n",
    "        _sum += (p1 - p2)**2\n",
    "    return np.sqrt(_sum)\n",
    "\n",
    "def closest_points(point_list):\n",
    "    closest_point = 1e20 # Suficientemente grande\n",
    "    best_sol = []\n",
    "    len_list = len(point_list)\n",
    "    for i in range(len_list - 1):\n",
    "        for j in range(i + 1, len_list):\n",
    "            dist = distancia_euclidea(\n",
    "                point_list[i], point_list[j]\n",
    "            )\n",
    "            if dist < closest_point:\n",
    "                best_sol= [point_list[i], point_list[j], dist]\n",
    "                closest_point = dist\n",
    "    return best_sol\n",
    "\n",
    "print(closest_points([(1, 12), (4, 5), (20, 40), (13, 40), (35, 12)]))"
   ]
  },
  {
   "cell_type": "code",
   "execution_count": null,
   "id": "01f25bcb",
   "metadata": {},
   "outputs": [],
   "source": []
  }
 ],
 "metadata": {
  "kernelspec": {
   "display_name": "Python 3 (ipykernel)",
   "language": "python",
   "name": "python3"
  },
  "language_info": {
   "codemirror_mode": {
    "name": "ipython",
    "version": 3
   },
   "file_extension": ".py",
   "mimetype": "text/x-python",
   "name": "python",
   "nbconvert_exporter": "python",
   "pygments_lexer": "ipython3",
   "version": "3.11.1"
  }
 },
 "nbformat": 4,
 "nbformat_minor": 5
}
