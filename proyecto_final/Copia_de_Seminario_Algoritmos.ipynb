{
 "cells": [
  {
   "cell_type": "markdown",
   "metadata": {
    "id": "hVbXYX-RfPWh"
   },
   "source": [
    "# Algoritmos de optimización - Seminario<br>\n",
    "Nombre y Apellidos: Roger Amorós Sirera  <br>\n",
    "Url: https://github.com/RogerAmoros13/algoritmos_de_optimizacion <br>\n",
    "Problema: \n",
    "> 1. Sesiones de doblaje <br>\n",
    ">2. Organizar los horarios de partidos de La Liga<br>\n",
    "\n",
    "\n",
    "Descripción del problema:(copiar enunciado)\n",
    "\n",
    "....\n",
    "\n",
    "(*) La respuesta es obligatoria\n",
    "\n",
    "\n",
    "\n",
    "\n",
    "\n"
   ]
  },
  {
   "cell_type": "markdown",
   "metadata": {},
   "source": [
    "### Problema 1\n",
    "\n",
    "Se precisa coordinar el doblaje de una película. Los actores del doblaje deben coincidir en las\n",
    "tomas en las que sus personajes aparecen juntos en las diferentes tomas. Los actores de\n",
    "doblaje cobran todos la misma cantidad por cada día que deben desplazarse hasta el estudio de\n",
    "grabación independientemente del número de tomas que se graben. No es posible grabar más\n",
    "de 6 tomas por día. El objetivo es planificar las sesiones por día de manera que el gasto por los\n",
    "servicios de los actores de doblaje sea el menor posible"
   ]
  },
  {
   "cell_type": "markdown",
   "metadata": {
    "id": "3_-exlrTgLd-"
   },
   "source": [
    "##### Pregunta 1:\n",
    "\n",
    "(*)¿Cuantas posibilidades hay sin tener en cuenta las restricciones?<br>\n",
    "\n",
    "\n",
    "¿Cuantas posibilidades hay teniendo en cuenta todas las restricciones.\n",
    "\n",
    "\n"
   ]
  },
  {
   "cell_type": "markdown",
   "metadata": {
    "id": "WfCUqJyKhPcw"
   },
   "source": [
    "Este problema se puede resumir en de que manera ordenamos las tomas para que tengamos que haceer desplazarse un mínimo de veces a cada actor. Esto tiene, a priori, tantas posibilidades como maneras de ordenar las *n* tomas hay, es decir, *n!*.\n",
    "\n",
    "No obstante, podemos matizar la respuesta y hilar más fino, ya que podemos observar que hay respuestas que son equivalentes y por tanto descartables. Supongamos un problema reducido, con 4 tomas, pudiendo realizar un máximo de 2 por día. Según la respuesta a priori, tendríamos las siguientes soluciones basadas en las permutaciones:\n",
    "\n",
    "[1, 2, 3, 4], [1, 2, 4, 3], [1, 3, 2, 4], [1, 3, 4, 2], [1, 4, 2, 3], [1, 4, 3, 2], [2, 1, 3, 4], [2, 1, 4, 3], [2, 3, 1, 4], [2, 3, 4, 1], [2, 4, 1, 3], [2, 4, 3, 1], [3, 1, 2, 4], [3, 1, 4, 2], [3, 2, 1, 4], [3, 2, 4, 1], [3, 4, 1, 2], [3, 4, 2, 1], [4, 1, 2, 3], [4, 1, 3, 2], [4, 2, 1, 3], [4, 2, 3, 1], [4, 3, 1, 2], [4, 3, 2, 1]\n",
    "\n",
    "Tenemos 24 soluciones pero muchas de ellas son equivalentes, por ejemplo *[1, 2, 3, 4]* y *[1, 2, 4, 3]* son la misma, ya que los mismos actores tienen que ir los mismos días dado que el orden de las escenas dentro de un día no es importante. Esto obviamente nos reduce sustancialmente el número de soluciones y al mismo tiempo vuelve más difícil de calcular cuantas combinaciones hay.\n",
    "\n",
    "Después de pensarlo bastante, realizar varias pruebas con combinatorios, no supe deducir la formula general por mi mismo. Finalmente encontre un paper sobre el tema y pude extraer conclusiones sobre el número de posibilidades que tenemos para el problema con *n* tomas totales y *m* tomas diarias máximas. El paper en cuestión se encuentra al final en la bibliografía.\n",
    "\n",
    "$$\n",
    "\\phi_{n, m} = \\frac{n!}{m!^{c}c!}\n",
    "$$\n",
    "\n",
    "donde $$c = \\frac{n}{m}$$\n",
    "\n",
    "Es obvio que $\\phi_{n, m} < n!$, por lo que teniendo esto en cuenta, a la hora de calcular todas las posibilidades a fuerza aprovechando esto el resultado sera más optimo. Aun así, nuestro problema cuenta con *1.142395139657772e+16* posibilidades."
   ]
  },
  {
   "cell_type": "code",
   "execution_count": 1,
   "metadata": {},
   "outputs": [
    {
     "name": "stdout",
     "output_type": "stream",
     "text": [
      "265252859812191058636308480000000 11423951396577720\n",
      "False\n"
     ]
    }
   ],
   "source": [
    "# En esta celda tenemos definido el factorial y la función que calcula el total\n",
    "# de posibilidades.\n",
    "\n",
    "def fact(N):\n",
    "    if N == 1:\n",
    "        return 1\n",
    "    return N * fact(N-1)\n",
    "\n",
    "def total_posibilities(n, m):\n",
    "    n_fact = fact(n)\n",
    "    m_fact = fact(m)\n",
    "    n_m = int(n/m)\n",
    "    c = fact(n_m)\n",
    "    return int(n_fact / (m_fact ** n_m * c))\n",
    "\n",
    "TOTAL_POSIBILITIES = fact(30)\n",
    "EFFICIENT_POSIBILITIES = total_posibilities(30, 6)\n",
    "print(TOTAL_POSIBILITIES, EFFICIENT_POSIBILITIES)\n",
    "print(TOTAL_POSIBILITIES < EFFICIENT_POSIBILITIES)"
   ]
  },
  {
   "cell_type": "markdown",
   "metadata": {
    "id": "dzynfVJahHoY"
   },
   "source": [
    "##### Pregunta 2:\n",
    "\n",
    "Modelo para el espacio de soluciones<br>\n",
    "(*) ¿Cual es la estructura de datos que mejor se adapta al problema? Argumentalo.(Es posible que hayas elegido una al principio y veas la necesidad de cambiar, argumentalo)\n"
   ]
  },
  {
   "cell_type": "markdown",
   "metadata": {
    "id": "xFIJrOwKi2Ti"
   },
   "source": [
    "Respuesta\n",
    "\n"
   ]
  },
  {
   "cell_type": "markdown",
   "metadata": {
    "id": "38c-7-ejhJmA"
   },
   "source": [
    "Los datos de entrada se guardarán en una matriz 10x30, es decir una lista de listas con las tomas de cada actor. Esto es, insertar la matriz de restricciones traspuesta. En la siguiente celda veremos el código y un *print* para ver el formato.\n",
    "\n",
    "Como mención, también pensé insertar los datos en una matriz normal 30x10 como vienen inicialmente o mediante un diccionario cuyas llaves eran las tomas y los valores una lista con los actores. Esto será preciso más adelante, pero ya haremos los ajustes pertinentes entonces.\n",
    "\n",
    "Por otro lado, la solución vendra dada por una lista de listas, donde en cada lista estarán las tomas de ese día, por ejemplo:\n",
    "\n",
    "*[ <br>\n",
    "    [\"Toma 1\", \"Toma 5\", \"Toma 6\", \"Toma 15\", \"Toma 20\", \"Toma 21\"], <br>\n",
    "    [\"Toma 4\", \"Toma 2\", \"Toma 3\", \"Toma 16\", \"Toma 28\", \"Toma 27\"], <br>\n",
    "    ..., <br>\n",
    "    [\"Toma 7\", \"Toma 8\", \"Toma 9\", \"Toma 17\", \"Toma 23\", \"Toma 26\"], <br>\n",
    "]*"
   ]
  },
  {
   "cell_type": "code",
   "execution_count": 273,
   "metadata": {},
   "outputs": [
    {
     "name": "stdout",
     "output_type": "stream",
     "text": [
      "[1, 0, 0, 1, 0, 1, 1, 1, 1, 1, 1, 1, 1, 1, 1, 0, 1, 0, 1, 1, 0, 1, 1, 0, 1, 1, 0, 1, 1, 1]\n",
      "[1, 0, 1, 1, 1, 1, 1, 1, 1, 1, 1, 1, 0, 0, 1, 0, 0, 0, 0, 0, 0, 1, 0, 0, 1, 0, 0, 0, 0, 0]\n",
      "[1, 1, 0, 0, 0, 0, 0, 0, 0, 0, 1, 1, 0, 1, 0, 0, 1, 1, 1, 1, 0, 1, 1, 1, 0, 1, 0, 0, 0, 0]\n",
      "[1, 1, 0, 0, 1, 1, 1, 0, 1, 0, 0, 1, 1, 0, 0, 1, 0, 0, 0, 1, 0, 1, 0, 0, 1, 0, 1, 1, 0, 1]\n",
      "[1, 1, 1, 0, 0, 1, 1, 0, 0, 0, 1, 0, 1, 0, 0, 0, 0, 0, 0, 1, 0, 0, 0, 0, 0, 1, 1, 0, 1, 0]\n",
      "[0, 0, 0, 0, 0, 0, 0, 1, 0, 1, 0, 1, 0, 1, 0, 0, 0, 1, 0, 0, 1, 0, 0, 1, 0, 0, 0, 0, 1, 0]\n",
      "[0, 0, 1, 1, 0, 0, 0, 0, 0, 0, 0, 0, 0, 0, 1, 0, 0, 0, 0, 0, 0, 0, 0, 0, 0, 0, 0, 0, 0, 0]\n",
      "[0, 0, 0, 1, 1, 0, 0, 0, 0, 0, 1, 0, 0, 0, 0, 0, 0, 0, 0, 0, 1, 0, 0, 0, 0, 0, 0, 0, 0, 0]\n",
      "[0, 0, 0, 0, 0, 0, 0, 0, 0, 1, 0, 0, 0, 0, 0, 0, 0, 0, 0, 0, 0, 0, 0, 0, 0, 1, 0, 0, 0, 0]\n"
     ]
    }
   ],
   "source": [
    "# Aquí mostramos el código para la recepción de los datos del problema, en un csv ya limpio,\n",
    "# es decir, 30 filas y 11 columnas (numero de toma, actores*10...).\n",
    "\n",
    "import csv\n",
    "\n",
    "NUM_TOMAS = 30 # Prefijamos el número de tomas\n",
    "NUM_ACTORS = 10 # Prefijamos el número de actores\n",
    "MAX_TOMAS = 6 # Prefijamos el número de tomas máximo\n",
    "TOMAS_LIST = [i for i in range(NUM_TOMAS)]\n",
    "TOMAS = [[] for _ in range(NUM_ACTORS-1)] # Datos de las tomas\n",
    "\n",
    "with open(\"datos_escenas.csv\", \"r\") as file:\n",
    "    csvreader = csv.reader(file)\n",
    "    for row in csvreader:\n",
    "        for i in range(1, NUM_ACTORS):\n",
    "            # Cada fila la añadimos a la columna.\n",
    "            TOMAS[i-1].append(int(row[i]))\n",
    "\n",
    "print(*TOMAS, sep=\"\\n\")"
   ]
  },
  {
   "cell_type": "code",
   "execution_count": 275,
   "metadata": {},
   "outputs": [],
   "source": [
    "# Vamos a presentar la función encargada de comprobar que la solución es correcta\n",
    "# y el coste que tiene. Teniendo en cuenta que un algoritmo bien implementado solo\n",
    "# debería producir soluciones validas, crearemos otra función sin estas comprobaciones.\n",
    "\n",
    "# Como hemos anticipado, la solución será una matriz diasxtomas. Si suponemos que las \n",
    "# mejores soluciones son de 5 días, es decir, seis tomas por día podríamos usar simplemente \n",
    "# una lista con el orden de las tomas.\n",
    "\n",
    "def compute_cost_and_test(solution):\n",
    "    \"\"\"\n",
    "    solution <list>: Lista de listas.\n",
    "    return: Coste de la solución. Si devuelve 0, respuesta no \n",
    "            válida. (Cualquier solución tendrá un coste mayor que 0)\n",
    "    \"\"\"\n",
    "    \n",
    "    actor_moves = 0\n",
    "    takes_done = []\n",
    "    for day in solution:\n",
    "        if len(day) > 6: # Solución nula si has más de 6 tomas en un día\n",
    "            return 0\n",
    "        actors = set()\n",
    "        for take in day:\n",
    "            if take in takes_done: # Solución nula si se duplican tomas\n",
    "                return 0\n",
    "            takes_done.append(take)\n",
    "            for i in range(len(TOMAS)):\n",
    "                if TOMAS[i][take]:\n",
    "                    actors.add(i)\n",
    "        actor_moves += len(actors)\n",
    "    if len(takes_done) < len(TOMAS[0]): # Solución nula si no estan todas las tomas\n",
    "        return 0\n",
    "    return actor_moves\n",
    "\n",
    "def compute_cost(solution):\n",
    "    \"\"\"\n",
    "    solution <list>: Lista de listas.\n",
    "    return: Coste de la solución. Si devuelve 0, respuesta no \n",
    "            válida. (Cualquier solución tendrá un coste mayor que 0)\n",
    "    \"\"\"\n",
    "    \n",
    "    actor_moves = 0\n",
    "    for day in solution: # iteración sobre n/m items\n",
    "        actors = set()\n",
    "        for take in day: # iteración sobre m items\n",
    "            for i in range(len(TOMAS)): # iteración sobre n items\n",
    "                if TOMAS[i][take]:\n",
    "                    actors.add(i) # Operación básica\n",
    "        actor_moves += len(actors)\n",
    "    return actor_moves"
   ]
  },
  {
   "cell_type": "markdown",
   "metadata": {},
   "source": [
    "Aprovechamos para indicar que el algoritmo *compute_cost* tiene un coste de \n",
    "$$\n",
    "    \\frac{n}{m}mn = n^2 \\to O(n^2)\n",
    "$$"
   ]
  },
  {
   "cell_type": "code",
   "execution_count": 277,
   "metadata": {},
   "outputs": [
    {
     "name": "stdout",
     "output_type": "stream",
     "text": [
      "----------------------------------- Tests para la función compute_cost_and_test -----------------------------------\n",
      "\n",
      "Solución trivial\n",
      "[[0, 1, 2, 3, 4, 5], [6, 7, 8, 9, 10, 11], [12, 13, 14, 15, 16, 17], [18, 19, 20, 21, 22, 23], [24, 25, 26, 27, 28, 29]]\n",
      "36\n",
      "\n",
      "Solución errónea: Día con tomas de más\n",
      "[[0, 1, 2, 3, 4, 5, 6], [6, 7, 8, 9, 10, 11], [12, 13, 14, 15, 16, 17], [18, 19, 20, 21, 22, 23], [24, 25, 26, 27, 28, 29]]\n",
      "0\n",
      "\n",
      "Solución erronea: Toma repetida\n",
      "[[0, 1, 2, 3, 4, 5], [6, 7, 8, 9, 10, 11], [12, 13, 14, 15, 16, 17], [18, 19, 20, 21, 22, 23], [24, 25, 26, 27, 28, 0]]\n",
      "0\n",
      "\n",
      "Solución erronea: Falta una o más tomas\n",
      "[[0, 1, 2, 3, 4, 5], [6, 7, 8, 9, 10, 11], [12, 13, 14, 15, 16, 17], [18, 19, 20, 21, 22, 23], [24, 25, 26, 27, 28]]\n",
      "0\n"
     ]
    }
   ],
   "source": [
    "# Para ver como funciona vamos a realizar una serie de tests con una solución válida y\n",
    "# tres erróneas.\n",
    "\n",
    "print(\"-\"*35 + \" Tests para la función compute_cost_and_test \" + \"-\"*35)\n",
    "\n",
    "sol = [[i for i in range(MAX_TOMAS*(j-1), MAX_TOMAS*j)] for j in range(1, MAX_TOMAS)]\n",
    "\n",
    "print(\"\\nSolución trivial\")\n",
    "print(sol)\n",
    "print(compute_cost_and_test(sol))\n",
    "\n",
    "print(\"\\nSolución errónea: Día con tomas de más\")\n",
    "sol[0].append(6)\n",
    "print(sol)\n",
    "print(compute_cost_and_test(sol))\n",
    "sol[0].pop() # Restauramos la solución inicial\n",
    "\n",
    "print(\"\\nSolución erronea: Toma repetida\")\n",
    "sol[4].pop() # Sustituimos la última toma por la 0\n",
    "sol[4].append(0)\n",
    "print(sol)\n",
    "print(compute_cost_and_test(sol))\n",
    "\n",
    "print(\"\\nSolución erronea: Falta una o más tomas\")\n",
    "sol[4].pop()\n",
    "print(sol)\n",
    "print(compute_cost_and_test(sol))"
   ]
  },
  {
   "cell_type": "code",
   "execution_count": 280,
   "metadata": {},
   "outputs": [
    {
     "name": "stdout",
     "output_type": "stream",
     "text": [
      "La mejor solución es: \n",
      "[0, 1, 2, 3, 4, 5]\n",
      "[6, 7, 8, 9, 10, 11]\n",
      "[12, 13, 14, 15, 16, 17]\n",
      "[18, 19, 20, 21, 22, 23]\n",
      "[24, 25, 26, 27, 28, 29, 29]\n",
      "Tiene un coste de 36 con un total de 5 días de grabación\n",
      "\n",
      "\n",
      "La mejor solución es: \n",
      "[0, 1, 2, 3, 4, 5]\n",
      "[6, 7, 8, 9, 10, 11]\n",
      "[12, 13, 14, 15, 16, 17]\n",
      "[18, 19, 20, 21, 22, 23]\n",
      "[24, 25, 26, 27, 28, 29, 29, 29]\n",
      "Tiene un coste de 36 con un total de 5 días de grabación\n"
     ]
    }
   ],
   "source": [
    "# Finalmente, para no repetir código creamos una funcion que imprime un texto\n",
    "# con la solución.\n",
    "\n",
    "def print_sol(solution, cost):\n",
    "    if cost:\n",
    "        print(\"La mejor solución es: \")\n",
    "    else:\n",
    "        print(\"Solución erronea!\")\n",
    "    print(*solution, sep=\"\\n\")\n",
    "    if cost:\n",
    "        print(f\"Tiene un coste de {cost} con un total de {len(solution)} días de grabación\")\n",
    "        \n",
    "print_sol(sol, compute_cost(sol)) # Solución anterior incorrecta\n",
    "\n",
    "print(\"\\n\")\n",
    "sol[-1].append(29)\n",
    "print_sol(sol, compute_cost(sol)) # Solución correcta"
   ]
  },
  {
   "cell_type": "markdown",
   "metadata": {
    "id": "7Z9U2W7bi-XS"
   },
   "source": [
    "##### Pregunta 3:\n",
    "\n",
    "Según el modelo para el espacio de soluciones<br>\n",
    "(*)¿Cual es la función objetivo?\n",
    "\n",
    "(*)¿Es un problema de maximización o minimización?"
   ]
  },
  {
   "cell_type": "markdown",
   "metadata": {
    "id": "hBalWLM7j1_d"
   },
   "source": [
    "Nuestro objetivo es minimizar la cantidad de desplazamientos diarios que se han de realizar para grabar las tomas. En lenguage común sería tratar de *\"compactar los actores para que vengan los menos días posibles\"*. De una manera más matemática, la función a minimizar se escribiría como\n",
    "\n",
    "$$\n",
    "f(x) = \\sum_i^{n/m} |D_i|\n",
    "$$\n",
    "donde $|D_i|$ es el cardinal del grupo de actores que han participado el día $i$."
   ]
  },
  {
   "cell_type": "markdown",
   "metadata": {
    "id": "rlnTYgY1j6I2"
   },
   "source": [
    "##### Pregunta 4:\n",
    "\n",
    "Diseña un algoritmo para resolver el problema por fuerza bruta"
   ]
  },
  {
   "cell_type": "markdown",
   "metadata": {
    "id": "70rDgxYXkC8r"
   },
   "source": [
    "Respuesta"
   ]
  },
  {
   "cell_type": "code",
   "execution_count": 283,
   "metadata": {},
   "outputs": [
    {
     "name": "stdout",
     "output_type": "stream",
     "text": [
      "[1, 2, 3]\n",
      "[1, 3, 2]\n",
      "[3, 1, 2]\n",
      "[3, 2, 1]\n",
      "[1, 2, 3]\n",
      "[1, 3, 2]\n"
     ]
    }
   ],
   "source": [
    "import time\n",
    "\n",
    "# Aquí tenemos una función que recibe una lista de números ordenada y devuelve todas sus permutaciones.\n",
    "# Se puede permutar una lista de manera más compacta recursivamente. Pero debido a que hay 30! permutaciones\n",
    "# directamente ni tratamos de utilizarla, ya que tendríamos que ir guardando todos los resultados para\n",
    "# usarlos al final. Es por esto que definimos una función no-recursiva y generatriz, para devolver resultado\n",
    "# a resultado sin tener que guardar en memoria.\n",
    "\n",
    "def get_permutation(nums=None, i=0):\n",
    "    if i == len(nums):\n",
    "        yield nums\n",
    "        return\n",
    "    for j in range(i, len(nums)): # iteración de n-i elementos.\n",
    "        nums[i], nums[j] = nums[j], nums[i]\n",
    "        yield from get_permutation(nums, i + 1)\n",
    "\n",
    "# Ejemplo de permutación\n",
    "p = get_permutation([1, 2, 3])\n",
    "for x in p:\n",
    "    print(x)"
   ]
  },
  {
   "cell_type": "code",
   "execution_count": 10,
   "metadata": {},
   "outputs": [
    {
     "name": "stdout",
     "output_type": "stream",
     "text": [
      "En 600 segundos se han evaluado 30904476 posibilidades de 265252859812191058636308480000000\n",
      "Esto supone un 1.1650949219503806e-25 % de soluciones exploradas\n",
      "\n",
      "La mejor solución es: \n",
      "[0, 1, 2, 3, 4, 5]\n",
      "[6, 7, 8, 9, 10, 11]\n",
      "[12, 13, 14, 15, 16, 17]\n",
      "[18, 29, 27, 24, 22, 21]\n",
      "[23, 28, 20, 25, 19, 26]\n",
      "Tiene un coste de 33 con un total de 5 días de grabación\n"
     ]
    }
   ],
   "source": [
    "def fuerza_bruta(tomas, max_time=60):\n",
    "    perm = get_permutation(tomas)\n",
    "    start = time.time()\n",
    "    end = time.time()\n",
    "    best_sol = None\n",
    "    best_cost = float(\"inf\")\n",
    "    i = 0\n",
    "    for x in perm:\n",
    "        sol = [x[MAX_TOMAS*(j-1):MAX_TOMAS*j] for j in range(1, 6)]\n",
    "        cost = compute_cost(sol)\n",
    "        if cost < best_cost:\n",
    "            best_cost = cost\n",
    "            best_sol = sol\n",
    "        end = time.time()\n",
    "        i += 1\n",
    "        if end - start > max_time:\n",
    "            break\n",
    "    return best_sol, best_cost, i\n",
    "\n",
    "secs = 600 # Diez minutos\n",
    "sol, cost, iters = fuerza_bruta([i for i in range(NUM_TOMAS)], secs)\n",
    "print(f\"En {secs} segundos se han evaluado {iters} posibilidades de {TOTAL_POSIBILITIES}\")\n",
    "print(\"Esto supone un {} % de soluciones exploradas\\n\".format(iters / TOTAL_POSIBILITIES))\n",
    "\n",
    "print_sol(sol, cost)"
   ]
  },
  {
   "cell_type": "markdown",
   "metadata": {
    "id": "tgrnsC2nkFa8"
   },
   "source": [
    "Calcula la complejidad del algoritmo por fuerza bruta"
   ]
  },
  {
   "cell_type": "markdown",
   "metadata": {},
   "source": [
    "Obviamente el coste de la permutación es factorial, ya que se trata de una función recursiva. En la función hay un solo bucle  donde hemos anotado *n - i iteraciones*, y aquí añadimos que se realizan $0 < i < n$. Por tanto, lo que tenemos son n bucles anidados, dando las siguientes operaciones\n",
    "\n",
    "$$\n",
    "    \\prod_{i=0}^{n}(n-i) = n!\n",
    "$$\n",
    "\n",
    "Vemos claro que el orden es $O(n!)$."
   ]
  },
  {
   "cell_type": "markdown",
   "metadata": {
    "id": "txbrmLmskReM"
   },
   "source": [
    "(*)Diseña un algoritmo que mejore la complejidad del algortimo por fuerza bruta. Argumenta porque crees que mejora el algoritmo por fuerza bruta\n",
    "\n",
    "(*)Calcula la complejidad del algoritmo"
   ]
  },
  {
   "cell_type": "markdown",
   "metadata": {},
   "source": [
    "La función que veremos a continuación se trata de una función que realiza permutaciones también, pero esta vez teniendo en cuenta los subconjuntos creados, esto es, aplicando la restricción que hemos descrito más arriba."
   ]
  },
  {
   "cell_type": "code",
   "execution_count": 287,
   "metadata": {},
   "outputs": [
    {
     "name": "stdout",
     "output_type": "stream",
     "text": [
      "[{1, 2}, {3, 4}, {5, 6}]\n",
      "[{1, 2}, {3, 5}, {4, 6}]\n",
      "[{1, 2}, {3, 6}, {4, 5}]\n",
      "[{1, 3}, {2, 4}, {5, 6}]\n",
      "[{1, 3}, {2, 5}, {4, 6}]\n",
      "[{1, 3}, {2, 6}, {4, 5}]\n",
      "[{1, 4}, {2, 3}, {5, 6}]\n",
      "[{1, 4}, {2, 5}, {3, 6}]\n",
      "[{1, 4}, {2, 6}, {3, 5}]\n",
      "[{1, 5}, {2, 3}, {4, 6}]\n",
      "[{1, 5}, {2, 4}, {3, 6}]\n",
      "[{1, 5}, {2, 6}, {3, 4}]\n",
      "[{1, 6}, {2, 3}, {4, 5}]\n",
      "[{1, 6}, {2, 4}, {3, 5}]\n",
      "[{1, 6}, {2, 5}, {3, 4}]\n"
     ]
    }
   ],
   "source": [
    "from itertools import combinations\n",
    "\n",
    "def permute_grouped(elements, k):\n",
    "    t = len(elements) // k\n",
    "    if t == 1:\n",
    "        yield [elements]\n",
    "        return\n",
    "    first_item = next(iter(elements))\n",
    "    rest_of_elements = elements - {first_item}\n",
    "    comb = combinations(rest_of_elements, k - 1)\n",
    "    for rest_of_group in comb: # comb son len(rest_of_elements) choose k-1\n",
    "        rest_of_group = set(rest_of_group)\n",
    "        group = {first_item} | rest_of_group\n",
    "        for other_groups in permute_grouped(rest_of_elements - rest_of_group, k):\n",
    "            yield [group] + other_groups\n",
    "\n",
    "# Ejemplo\n",
    "perm = permute_grouped({1, 2, 3, 4, 5, 6}, 2)\n",
    "for p in perm:\n",
    "    print(p)"
   ]
  },
  {
   "cell_type": "code",
   "execution_count": 65,
   "metadata": {},
   "outputs": [
    {
     "name": "stdout",
     "output_type": "stream",
     "text": [
      "En 600 segundos se han evaluado 28052799 posibilidades de 11423951396577720\n",
      "Esto supone un 2.455612600768224e-09 % de soluciones exploradas\n",
      "\n",
      "La mejor solución es: \n",
      "[0, 1, 2, 3, 4, 5]\n",
      "[6, 7, 8, 9, 10, 11]\n",
      "[28, 19, 25, 26, 12, 13]\n",
      "[21, 24, 27, 29, 14, 15]\n",
      "[16, 17, 18, 20, 22, 23]\n",
      "Tiene un coste de 30 con un total de 5 días de grabación\n"
     ]
    }
   ],
   "source": [
    "def fuerza_menos_bruta(tomas, max_time=60):\n",
    "    perm = permute_grouped(set(tomas), MAX_TOMAS)\n",
    "    start = time.time()\n",
    "    best_sol = None\n",
    "    best_cost = float(\"inf\")\n",
    "    i = 0\n",
    "    for x in perm:\n",
    "        sol = [list(el) for el in x]\n",
    "        cost = compute_cost(sol)\n",
    "        if cost < best_cost:\n",
    "            best_cost = cost\n",
    "            best_sol = sol\n",
    "        end = time.time()\n",
    "        i += 1\n",
    "        if end - start > max_time:\n",
    "            break\n",
    "    return best_sol, best_cost, i\n",
    "\n",
    "secs = 600 # Diez minutos\n",
    "sol, cost, iters = fuerza_menos_bruta([i for i in range(NUM_TOMAS)], secs)\n",
    "print(f\"En {secs} segundos se han evaluado {iters} posibilidades de {EFFICIENT_POSIBILITIES}\")\n",
    "print(\"Esto supone un {} % de soluciones exploradas\\n\".format(iters / EFFICIENT_POSIBILITIES))\n",
    "\n",
    "print_sol(sol, cost)"
   ]
  },
  {
   "cell_type": "markdown",
   "metadata": {},
   "source": [
    "Con la función *permute_grouped* la complejidad es la misma, ya que se trata de una función recursiva. Aún así, la profundidad de recursión es menor en esta función por lo que la complejidad no se dispara tanto como en la primera función.\n",
    "\n",
    "La ventaja de este algoritmo es que cada solución que produce es nueva, no se repiten, por lo que ganamos el doble. Podemos ver que pese haber alcanzado un mediocre *2.45e-09 %*, con el primer método a fuerza bruta obteniamos un *7.36e-26 %* todavía más mediocre.\n",
    "\n",
    "Además, comparando los dos métodos vemos que el segundo realiza más iteraciones, concretamente *28052799* frente a las *19523881* del primero. Por un lado esto se debe a lo que comentabamos antes de la profundidad de recursión menor, pero además, sin haberlo llegado a investigar en profundidad probablemente también se deba a que la implementación de *combinations* está totalmente optimizada, al igual que la resta entre objetos de tipo *set* en python y esto mejora sustancialmente nuestro algoritmo."
   ]
  },
  {
   "cell_type": "markdown",
   "metadata": {
    "id": "3M6QjTsSkmYe"
   },
   "source": [
    "##### Problema 5:\n",
    "\n",
    "Según el problema (y tenga sentido), diseña un juego de datos de entrada aleatorios"
   ]
  },
  {
   "cell_type": "markdown",
   "metadata": {},
   "source": [
    "Nuestro algoritmo para encontrar soluciones aleatorias con sentido viene dado en la función *get_random_solution*, la cual genera soluciones a partir de una copia de las tomas a grabar. Se utiliza el set para operar entre conjuntos y evitar que se produzcan soluciones incorrectas."
   ]
  },
  {
   "cell_type": "code",
   "execution_count": 304,
   "metadata": {
    "id": "CJb5sQ0qkENy"
   },
   "outputs": [
    {
     "name": "stdout",
     "output_type": "stream",
     "text": [
      "La mejor solución es: \n",
      "[9, 26, 20, 1, 25, 5]\n",
      "[18, 21, 10, 0, 6, 2]\n",
      "[27, 3, 14, 24, 4, 15]\n",
      "[11, 22, 8, 7, 13, 29]\n",
      "[12, 16, 17, 23, 19, 28]\n",
      "Tiene un coste de 30 con un total de 5 días de grabación\n"
     ]
    }
   ],
   "source": [
    "import random\n",
    "\n",
    "def get_random_solution():\n",
    "    tomas = TOMAS_LIST.copy()\n",
    "    sol = []\n",
    "    while tomas: \n",
    "        day = random.sample(tomas, MAX_TOMAS)\n",
    "        tomas = list(set(tomas) - set(day))\n",
    "        sol.append(day)\n",
    "    return sol\n",
    "        \n",
    "\n",
    "def random_solution(N=1e10, max_time=10):\n",
    "    # Buscaremos soluciones random, la idea es todos los días hacer 6 tomas.\n",
    "    best_sol = None\n",
    "    best_cost = float(\"inf\")\n",
    "    start = time.time()\n",
    "    end = time.time()\n",
    "    i = 0\n",
    "    while end - start < max_time and i < N:\n",
    "        sol = get_random_solution()\n",
    "        cost = compute_cost(sol)\n",
    "        if cost < best_cost:\n",
    "            best_cost = cost\n",
    "            best_sol = sol\n",
    "        end = time.time()\n",
    "        i += 1\n",
    "    return best_cost, best_sol\n",
    "\n",
    "cost, sol = random_solution(max_time=10)\n",
    "print_sol(sol, cost) # La mejor solución encontrada ha sido de 30\n",
    "# get_random_solution()"
   ]
  },
  {
   "cell_type": "markdown",
   "metadata": {},
   "source": [
    "A modo de experimento, vamos a provar a generar soluciones que no necesariamente ocupen 6 días, sino que haya días en que se graben 4, 5 o 6 tomas, para ver si alguna de estas soluciones puede ser valida."
   ]
  },
  {
   "cell_type": "code",
   "execution_count": 306,
   "metadata": {},
   "outputs": [
    {
     "name": "stdout",
     "output_type": "stream",
     "text": [
      "La mejor solución es: \n",
      "[7, 25, 29, 9, 17, 18]\n",
      "[28, 4, 3, 2, 24, 14]\n",
      "[10, 13, 22, 21, 20, 6]\n",
      "[5, 8, 0, 11, 23, 12]\n",
      "[16, 27, 19, 26, 1, 15]\n",
      "Tiene un coste de 31 con un total de 5 días de grabación\n"
     ]
    }
   ],
   "source": [
    "def more_random_solution(N=1e10, max_time=10):\n",
    "    # Buscaremos soluciones random, esta vez cada día no se tiene porque hacer 6 tomas.\n",
    "    # Los días tendrán entre 3 y 6 tomas.\n",
    "    best_sol = None\n",
    "    best_cost = float(\"inf\")\n",
    "    start = time.time()\n",
    "    end = time.time()\n",
    "    i = 0\n",
    "    while end - start < max_time and i < N:\n",
    "        sol = []\n",
    "        tomas = [i for i in range(NUM_TOMAS)]\n",
    "        while tomas:\n",
    "            new_day = []\n",
    "            upper_bound = min(len(tomas), MAX_TOMAS)\n",
    "            lower_bound = 0 if upper_bound < 3 else 3\n",
    "            num_tomas = random.randint(lower_bound, upper_bound)\n",
    "            for i in range(num_tomas):\n",
    "                toma = random.randint(0, len(tomas) - 1)\n",
    "                new_day.append(tomas.pop(toma))\n",
    "            sol.append(new_day)\n",
    "        cost = compute_cost(sol)\n",
    "        if cost < best_cost:\n",
    "            best_cost = cost\n",
    "            best_sol = sol\n",
    "        i -= 1\n",
    "        end = time.time()\n",
    "    return best_cost, best_sol\n",
    "\n",
    "cost, sol = more_random_solution(max_time=10)\n",
    "print_sol(sol, cost) # La mejor solución encontrada ha sido de 33"
   ]
  },
  {
   "cell_type": "markdown",
   "metadata": {},
   "source": [
    "Conclusiones: Después de ejecutar varias veces cada algoritmo vemos que iterarlo 10000 veces \n",
    "apenas nos lleva 1~2 segundos.\n",
    "\n",
    "La función *random_solution* nos ha brindado un mejor resultado, siendo\n",
    "este de 30 en 5 días. \n",
    "\n",
    "La solución de *more_random_solution* también se ejecuta como una bala y los \n",
    "resultados son semejantes a los de *random_solution*, no obstante, todas las soluciones encontradas\n",
    "son de 5 días, por lo que probablemente, todas las otras que contemplem más días están condenadas al fracaso. \n",
    "\n",
    "En conclusión, la segunda función se puede descartar ya que no vamos a encontrar una solución *milagrosa* buscando \n",
    "otras combinaciones de tomas que no sean seis diarias."
   ]
  },
  {
   "cell_type": "markdown",
   "metadata": {},
   "source": [
    "### Resolución eficiente del problema"
   ]
  },
  {
   "cell_type": "markdown",
   "metadata": {},
   "source": [
    "Más que indicar las lineas de como vamos a resolver el problema, lo que haremos es programar los distintos métodos que se usan para solucionar problemas de este tipo."
   ]
  },
  {
   "cell_type": "markdown",
   "metadata": {},
   "source": [
    "#### Algoritmo voraz\n",
    "\n",
    "Nuestra idea para construir un algoritmo voraz es la de que si agrupamos los actores en sus respectivas escenas, conseguiremos que el ese actor vaya los menos días posibles. Escogeremos un actor al azar, grabaremos sus escenas y después continuaremos por el actor que tiene al lado agrupando en la medida que se pueda las escenas que le toquen. Lo vemos en el siguiente ejemplo con cuatro acotres y 6 escenas. Antes pues, ejecutamos tres funciones que nos haran falta para crear este algoritmo voraz."
   ]
  },
  {
   "cell_type": "code",
   "execution_count": 106,
   "metadata": {},
   "outputs": [],
   "source": [
    "# Después de haber escogido el formato de datos con las filas de actores y las columnas de escenas,\n",
    "# para este caso nos vendría bien que esté al revés. Básicamente lo que queremos es transponer la \n",
    "# matriz y para eso tenemos la siguiente función.\n",
    "\n",
    "def transpose(tomas, save_row=True): # Orden O(n2)\n",
    "    n = len(tomas)\n",
    "    m = len(tomas[0])\n",
    "    new_tomas = [[] for _ in range(m)]\n",
    "    for i in range(n):\n",
    "        for j in range(m):\n",
    "            new_tomas[j].append(tomas[i][j])\n",
    "    if save_row:\n",
    "        for i, toma in enumerate(new_tomas):\n",
    "            toma.append(i)\n",
    "    return new_tomas\n",
    "\n",
    "# Esta funcion permuta las columnas i y j de una matriz.\n",
    "def swap_order(tomas, i, j): # O(1)\n",
    "    tomas[i], tomas[j] = tomas[j], tomas[i]\n",
    "    return tomas\n",
    "\n",
    "# Este algoritmo ordena las listas por cada uno de sus items\n",
    "def greedy_choose(tomas, level=0, size=NUM_ACTORS-1): # O(nm)\n",
    "    if level == size:\n",
    "        return tomas\n",
    "    result = []\n",
    "    while tomas:\n",
    "        pos = -1\n",
    "        for i, val in enumerate(tomas):\n",
    "            order = val[level]\n",
    "            if order > pos:\n",
    "                pos = order\n",
    "                conflicts = []\n",
    "            if order == pos:\n",
    "                conflicts.append(val)\n",
    "        if len(conflicts) == 1:\n",
    "            result += conflicts\n",
    "        else:\n",
    "            result += greedy_choose(conflicts.copy(), level+1)\n",
    "        for con in conflicts:\n",
    "            tomas.remove(con)\n",
    "    return result"
   ]
  },
  {
   "cell_type": "code",
   "execution_count": 308,
   "metadata": {},
   "outputs": [
    {
     "name": "stdout",
     "output_type": "stream",
     "text": [
      "[1, 1, 0, 1]\n",
      "[1, 0, 1, 1]\n",
      "[1, 0, 0, 1]\n",
      "[0, 1, 1, 1]\n",
      "[0, 1, 0, 1]\n",
      "[0, 0, 1, 1]\n"
     ]
    }
   ],
   "source": [
    "# Ejemplo\n",
    "T = [[1, 1, 0, 1], [1, 0, 1, 1], [1, 0, 0, 1], [0, 1, 1, 1], [0, 1, 0, 1], [0, 0, 1, 1]]\n",
    "sol = greedy_choose(T.copy(), size=3)\n",
    "print(*sol, sep=\"\\n\")"
   ]
  },
  {
   "cell_type": "markdown",
   "metadata": {},
   "source": [
    "Podemos ver que no es la mejor de las soluciones y además, que esta depende de el orden en el que escogemos los actores, por ejemplo, si intercambiamos la fila 1 por la 4, la solución cambiaría. "
   ]
  },
  {
   "cell_type": "code",
   "execution_count": 309,
   "metadata": {},
   "outputs": [
    {
     "name": "stdout",
     "output_type": "stream",
     "text": [
      "[1, 1, 1, 0]\n",
      "[1, 1, 0, 1]\n",
      "[1, 1, 0, 0]\n",
      "[1, 0, 1, 1]\n",
      "[1, 0, 1, 0]\n",
      "[1, 0, 0, 1]\n"
     ]
    }
   ],
   "source": [
    "T = transpose(T.copy(), save_row=False)\n",
    "T = swap_order(T.copy(), 0, 3)\n",
    "T = transpose(T.copy(), save_row=False)\n",
    "sol = greedy_choose(T.copy(), size=3)\n",
    "print(*sol, sep=\"\\n\")"
   ]
  },
  {
   "cell_type": "markdown",
   "metadata": {},
   "source": [
    "Vemos entonces, que nuestro problema voraz es realmente, en este punto un problema de ordenación. Sabiendo esto, lo que vamos a hacer es explorar todos los distintos tipos de ordenaciones que podemos obtener realizando todos los distintos swaps entre las columnas."
   ]
  },
  {
   "cell_type": "code",
   "execution_count": 311,
   "metadata": {
    "scrolled": false
   },
   "outputs": [
    {
     "name": "stdout",
     "output_type": "stream",
     "text": [
      "La mejor solución es: \n",
      "[10, 4, 3, 20, 0, 11]\n",
      "[21, 5, 6, 8, 24, 2]\n",
      "[9, 7, 14, 19, 1, 25]\n",
      "[13, 17, 23, 16, 18, 22]\n",
      "[12, 26, 27, 29, 15, 28]\n",
      "Tiene un coste de 29 con un total de 5 días de grabación\n"
     ]
    }
   ],
   "source": [
    "def greedy_alg(): # Tenemos NUM_ACTORS x NUM_ACTORS * (n * m + n + n^2) operaciones aproximadamente en la ejecución\n",
    "    best_sol = None\n",
    "    best_cost = float(\"inf\")\n",
    "    for i in range(NUM_ACTORS-2):\n",
    "        for j in range(i, NUM_ACTORS-1):\n",
    "            tomas = transpose(swap_order(TOMAS.copy(), i, j))\n",
    "            tomas = greedy_choose(tomas)\n",
    "            sol = []\n",
    "            day = []\n",
    "            for k, toma in enumerate(tomas):\n",
    "                day.append(toma[-1])\n",
    "                if not (k + 1) % MAX_TOMAS:\n",
    "                    sol.append(day.copy())\n",
    "                    day = []\n",
    "            cost = compute_cost(sol)\n",
    "            if cost < best_cost:\n",
    "                best_cost = cost\n",
    "                best_sol = sol\n",
    "    return best_cost, best_sol\n",
    "\n",
    "cost, sol = greedy_alg()\n",
    "print_sol(sol, cost)"
   ]
  },
  {
   "cell_type": "markdown",
   "metadata": {},
   "source": [
    "Por primera vez hemos conseguido bajar de 30 en nuestra función de coste!\n",
    "\n",
    "Nuestro objetivo ahora será encontrar una función que haga una búsqueda local para mejorar nuestras soluciones. PAra ello, presentamos la siguiente función encargada de intercambiar dos tomas de dos días distintos."
   ]
  },
  {
   "cell_type": "code",
   "execution_count": 317,
   "metadata": {
    "scrolled": false
   },
   "outputs": [
    {
     "name": "stdout",
     "output_type": "stream",
     "text": [
      "La mejor solución es: \n",
      "[10, 1, 2, 3, 4, 5]\n",
      "[6, 7, 8, 9, 0, 11]\n",
      "[12, 13, 14, 15, 16, 17]\n",
      "[18, 19, 20, 21, 22, 23]\n",
      "[24, 25, 26, 27, 28, 29]\n",
      "Tiene un coste de 35 con un total de 5 días de grabación\n"
     ]
    }
   ],
   "source": [
    "def swap_tomas(sol, l1, l2): # m x m operaciones, con m = MAX_TOMAS\n",
    "    # sol <list>: solucion standard\n",
    "    # l1, l2 <int>: los días sobre los que se permuta\n",
    "    best_cost = compute_cost(sol)\n",
    "    best_sol = sol\n",
    "    m = len(sol[0])\n",
    "    for i in range(m):\n",
    "        for j in range(m):\n",
    "            sol[l1][i], sol[l2][j] = sol[l2][j], sol[l1][i]\n",
    "            cost = compute_cost(sol)\n",
    "            if cost < best_cost:\n",
    "                best_cost = cost\n",
    "                best_sol = [s.copy() for s in sol]\n",
    "            sol[l1][i], sol[l2][j] = sol[l2][j], sol[l1][i]\n",
    "    return best_sol, best_cost\n",
    "\n",
    "sol = [[i for i in range(MAX_TOMAS*(j-1), MAX_TOMAS*j)] for j in range(1, MAX_TOMAS)]\n",
    "best_sol, best_cost = swap_tomas(sol.copy(), 0, 1)\n",
    "print_sol(best_sol, best_cost)"
   ]
  },
  {
   "cell_type": "code",
   "execution_count": 318,
   "metadata": {
    "scrolled": false
   },
   "outputs": [
    {
     "name": "stdout",
     "output_type": "stream",
     "text": [
      "La mejor solución es: \n",
      "[10, 14, 2, 3, 24, 5]\n",
      "[6, 7, 8, 9, 0, 11]\n",
      "[28, 13, 1, 15, 16, 17]\n",
      "[18, 4, 20, 21, 22, 23]\n",
      "[19, 25, 26, 27, 12, 29]\n",
      "Tiene un coste de 30 con un total de 5 días de grabación\n"
     ]
    }
   ],
   "source": [
    "# Función que dada una solución encuentra su mejor solución local.\n",
    "\n",
    "def busqueda_local(sol): # (m / n)^2 x MAX_TOMAS^2\n",
    "    days = len(sol)\n",
    "    tomas = len(sol[0])\n",
    "    best_cost = compute_cost(sol)\n",
    "    best_sol = sol\n",
    "    improve = False\n",
    "    for i in range(days-1):\n",
    "        for j in range(i, days):\n",
    "            sol, cost = swap_tomas(sol, i, j)\n",
    "            if cost < best_cost:\n",
    "                improve = True\n",
    "                best_sol = sol\n",
    "                best_cost = cost\n",
    "    if improve:\n",
    "        best_sol, best_cost = busqueda_local(best_sol)\n",
    "    return best_sol, best_cost\n",
    "\n",
    "sol = [[i for i in range(MAX_TOMAS*(j-1), MAX_TOMAS*j)] for j in range(1, MAX_TOMAS)]\n",
    "\n",
    "best_sol, best_cost = busqueda_local(sol)\n",
    "print_sol(best_sol, best_cost)"
   ]
  },
  {
   "cell_type": "markdown",
   "metadata": {},
   "source": [
    "Finalmente vamos a aplicar el algoritmo voraz con busqueda local."
   ]
  },
  {
   "cell_type": "code",
   "execution_count": 319,
   "metadata": {},
   "outputs": [
    {
     "name": "stdout",
     "output_type": "stream",
     "text": [
      "La mejor solución es: \n",
      "[0, 1, 21, 10, 19, 5]\n",
      "[13, 16, 18, 22, 23, 17]\n",
      "[11, 25, 7, 8, 24, 9]\n",
      "[6, 3, 14, 4, 2, 12]\n",
      "[27, 29, 28, 26, 15, 20]\n",
      "Tiene un coste de 27 con un total de 5 días de grabación\n"
     ]
    }
   ],
   "source": [
    "# Función que busca las mejores soluciones voraces y le realiza una busqueda local a cada una de ellas.\n",
    "\n",
    "def greedy_plus_local_search():\n",
    "    best_sol = None\n",
    "    best_cost = float(\"inf\")\n",
    "    for i in range(NUM_ACTORS-2):\n",
    "        for j in range(i, NUM_ACTORS-1):\n",
    "            tomas = transpose(swap_order(TOMAS.copy(), i, j))\n",
    "            tomas = greedy_choose(tomas)\n",
    "            sol = []\n",
    "            day = []\n",
    "            for k, toma in enumerate(tomas):\n",
    "                day.append(toma[-1])\n",
    "                if not (k + 1) % MAX_TOMAS:\n",
    "                    sol.append(day.copy())\n",
    "                    day = []\n",
    "            sol, cost = busqueda_local(sol)\n",
    "            if cost < best_cost:\n",
    "                best_cost = cost\n",
    "                best_sol = sol\n",
    "    return best_cost, best_sol\n",
    "\n",
    "cost, sol = greedy_plus_local_search()\n",
    "print_sol(sol, cost)"
   ]
  },
  {
   "cell_type": "markdown",
   "metadata": {},
   "source": [
    "Esto va mejorando, con este metodo hemos reducido dos puntos la solución en un tiempo de ejecución mínimo. Nuestro objetibo ahora será añadir una parte de aleatoriedad en el algoritmo voraz y de esta manera poder generar soluciones distintas para tenerlo buscando respuestas durante 3, 4 o 5 minutos."
   ]
  },
  {
   "cell_type": "markdown",
   "metadata": {},
   "source": [
    "#### GRASP\n",
    "\n",
    "EL metaheurístico GRASP (greedy randomized adaptive search procedure) nos puede proporcionar una mejor solución ya que nos permite a través de la aleatoriedad explorar más soluciones que en el método voraz se descartan pudiendo ser buenas soluciones."
   ]
  },
  {
   "cell_type": "code",
   "execution_count": 320,
   "metadata": {},
   "outputs": [],
   "source": [
    "# Este algoritmo ordena las listas por cada uno de sus items. El resultado es el mismo que\n",
    "# el de greedy_choose con la diferencia que este es generativo y nos devuelve los elementos\n",
    "# ordenados uno a uno.\n",
    "\n",
    "def greedy_choose_gen(tomas, level=0, size=NUM_ACTORS-1):\n",
    "    if level == size:\n",
    "        yield tomas\n",
    "        return\n",
    "    result = []\n",
    "    while tomas:\n",
    "        pos = -1\n",
    "        for i, val in enumerate(tomas):\n",
    "            order = val[level]\n",
    "            if order > pos:\n",
    "                pos = order\n",
    "                conflicts = []\n",
    "            if order == pos:\n",
    "                conflicts.append(val)\n",
    "        if len(conflicts) == 1:\n",
    "            result += conflicts\n",
    "        else:\n",
    "            result += greedy_choose(conflicts.copy(), level+1)\n",
    "        for con in conflicts:\n",
    "            tomas.remove(con)\n",
    "    yield from result"
   ]
  },
  {
   "cell_type": "code",
   "execution_count": 322,
   "metadata": {},
   "outputs": [
    {
     "name": "stdout",
     "output_type": "stream",
     "text": [
      "[1, 1, 1, 1, 1, 0, 0, 0, 0, 0]\n",
      "[1, 1, 1, 1, 0, 1, 0, 0, 0, 11]\n",
      "[1, 1, 1, 1, 0, 0, 0, 0, 0, 21]\n",
      "[1, 1, 1, 0, 1, 0, 0, 1, 0, 10]\n",
      "[1, 1, 0, 1, 1, 0, 0, 0, 0, 5]\n",
      "[1, 1, 0, 1, 1, 0, 0, 0, 0, 6]\n",
      "[1, 1, 0, 1, 0, 0, 0, 0, 0, 8]\n",
      "[1, 1, 0, 1, 0, 0, 0, 0, 0, 24]\n",
      "[1, 1, 0, 0, 0, 1, 0, 0, 1, 9]\n",
      "[1, 1, 0, 0, 0, 1, 0, 0, 0, 7]\n",
      "[1, 1, 0, 0, 0, 0, 1, 1, 0, 3]\n",
      "[1, 1, 0, 0, 0, 0, 1, 0, 0, 14]\n",
      "[1, 0, 1, 1, 1, 0, 0, 0, 0, 19]\n",
      "[1, 0, 1, 0, 1, 0, 0, 0, 1, 25]\n",
      "[1, 0, 1, 0, 0, 1, 0, 0, 0, 13]\n",
      "[1, 0, 1, 0, 0, 0, 0, 0, 0, 16]\n",
      "[1, 0, 1, 0, 0, 0, 0, 0, 0, 18]\n",
      "[1, 0, 1, 0, 0, 0, 0, 0, 0, 22]\n",
      "[1, 0, 0, 1, 1, 0, 0, 0, 0, 12]\n",
      "[1, 0, 0, 1, 0, 0, 0, 0, 0, 27]\n",
      "[1, 0, 0, 1, 0, 0, 0, 0, 0, 29]\n",
      "[1, 0, 0, 0, 1, 1, 0, 0, 0, 28]\n",
      "[0, 1, 0, 1, 0, 0, 0, 1, 0, 4]\n",
      "[0, 1, 0, 0, 1, 0, 1, 0, 0, 2]\n",
      "[0, 0, 1, 1, 1, 0, 0, 0, 0, 1]\n",
      "[0, 0, 1, 0, 0, 1, 0, 0, 0, 17]\n",
      "[0, 0, 1, 0, 0, 1, 0, 0, 0, 23]\n",
      "[0, 0, 0, 1, 1, 0, 0, 0, 0, 26]\n",
      "[0, 0, 0, 1, 0, 0, 0, 0, 0, 15]\n",
      "[0, 0, 0, 0, 0, 1, 0, 1, 0, 20]\n"
     ]
    }
   ],
   "source": [
    "# Aquí hay un pequeño bug que no he podido resolver, y es que bajo ciertos parametros\n",
    "# la función devuelve una lista vacía. Esto afecta a nuestro caso por lo que tendremos\n",
    "# que descartar esto. Por lo demás funciona correctamente.\n",
    "\n",
    "\n",
    "tomas = transpose(TOMAS.copy())\n",
    "sol = greedy_choose_gen(tomas)\n",
    "for g in sol:\n",
    "    if not g: # Descartar lista vacía\n",
    "        continue\n",
    "    print(g)"
   ]
  },
  {
   "cell_type": "markdown",
   "metadata": {},
   "source": [
    "En este punto ya podemos definir nuestro algoritmo voraz con factor aleatorio. Este factor lo implementaremos generando $6<n<12$ elementos ordenados y mezclandolos para de esta manera alterar la solución netamente ordenada."
   ]
  },
  {
   "cell_type": "code",
   "execution_count": 258,
   "metadata": {
    "id": "Jkx8GeiYlUz1"
   },
   "outputs": [
    {
     "name": "stdout",
     "output_type": "stream",
     "text": [
      "La mejor solución es: \n",
      "[8, 5, 0, 6, 4, 10]\n",
      "[11, 21, 20, 3, 24, 2]\n",
      "[9, 7, 14, 19, 1, 25]\n",
      "[13, 17, 23, 16, 18, 22]\n",
      "[12, 26, 27, 29, 15, 28]\n",
      "Tiene un coste de 29 con un total de 5 días de grabación\n"
     ]
    }
   ],
   "source": [
    "import random\n",
    "\n",
    "def greedy_randomized_alg(rand_fact=9):\n",
    "    best_sol = None\n",
    "    best_cost = float(\"inf\")\n",
    "    for i in range(NUM_ACTORS-2):\n",
    "        for j in range(i, NUM_ACTORS-1):\n",
    "            tomas = transpose(swap_order(TOMAS.copy(), i, j))\n",
    "            gen = greedy_choose_gen(tomas)\n",
    "            tomas = []\n",
    "            batch = []\n",
    "            for k, g in enumerate(gen):\n",
    "                if not g:\n",
    "                    continue\n",
    "                batch.append(g)\n",
    "                if k == rand_fact: # Una vez hay rand_fact elementos ordenados los mezclamos.\n",
    "                    random.shuffle(batch)\n",
    "                    tomas += batch # Añadimos los elementos mezclados a la solución\n",
    "                    batch = []\n",
    "            random.shuffle(batch)\n",
    "            tomas += batch\n",
    "            sol = []\n",
    "            day = []\n",
    "            for k, toma in enumerate(tomas):\n",
    "                day.append(toma[-1])\n",
    "                if not (k + 1) % MAX_TOMAS:\n",
    "                    sol.append(day.copy())\n",
    "                    day = []\n",
    "            cost = compute_cost(sol)\n",
    "            if cost < best_cost:\n",
    "                best_cost = cost\n",
    "                best_sol = [s.copy() for s in sol]\n",
    "    return best_cost, best_sol\n",
    "\n",
    "cost, sol = greedy_randomized_alg()\n",
    "print_sol(sol, cost)"
   ]
  },
  {
   "cell_type": "code",
   "execution_count": 326,
   "metadata": {
    "scrolled": false
   },
   "outputs": [
    {
     "name": "stdout",
     "output_type": "stream",
     "text": [
      "Nueva solución encontrada! 0.02428460121154785 segundos de ejecucion\n",
      "Solución alternativa!\n",
      "Solución alternativa!\n",
      "Solución alternativa!\n",
      "Solución alternativa!\n",
      "Solución alternativa!\n",
      "Solución alternativa!\n",
      "Solución alternativa!\n",
      "Nueva solución encontrada! 0.19585108757019043 segundos de ejecucion\n",
      "Solución alternativa!\n",
      "Solución alternativa!\n",
      "Solución alternativa!\n",
      "Solución alternativa!\n",
      "Solución alternativa!\n",
      "Solución alternativa!\n",
      "Solución alternativa!\n",
      "Solución alternativa!\n",
      "La mejor solución es: \n",
      "[3, 20, 14, 7, 2, 28]\n",
      "[24, 5, 10, 4, 8, 0]\n",
      "[9, 11, 21, 19, 1, 25]\n",
      "[13, 17, 23, 16, 18, 22]\n",
      "[12, 26, 27, 29, 15, 6]\n",
      "Tiene un coste de 26 con un total de 5 días de grabación\n"
     ]
    }
   ],
   "source": [
    "def grasp(max_time=60):\n",
    "    best_sol = None\n",
    "    best_cost = float(\"inf\")\n",
    "    st = time.time()\n",
    "    et = time.time()\n",
    "    while et - st < max_time:\n",
    "        rand_fact = random.randint(7, 11)\n",
    "        for i in range(NUM_ACTORS-2):\n",
    "            for j in range(i, NUM_ACTORS-1):\n",
    "                tomas = transpose(swap_order(TOMAS.copy(), i, j))\n",
    "                cost, sol = greedy_randomized_alg(11)\n",
    "                sol, cost = busqueda_local(sol)\n",
    "                if cost == best_cost:\n",
    "                    print(\"Solución alternativa!\")\n",
    "                if cost < best_cost:\n",
    "                    print(\n",
    "                        \"Nueva solución encontrada! {} segundos de ejecucion\".format(\n",
    "                            time.time()-st\n",
    "                        )\n",
    "                    )\n",
    "                    best_cost = cost\n",
    "                    best_sol = [s.copy() for s in sol]\n",
    "        et = time.time()\n",
    "    return best_cost, best_sol\n",
    "\n",
    "cost, sol = grasp(10)\n",
    "print_sol(sol, cost)"
   ]
  },
  {
   "cell_type": "markdown",
   "metadata": {},
   "source": [
    "Vemos que la función deja de mejorar al poco de comenzar y como mucho encuentra soluciones equivalentes, pero no mejores."
   ]
  },
  {
   "cell_type": "markdown",
   "metadata": {},
   "source": [
    "#### Conclusiones\n",
    "\n",
    "Después de aplicar todos los métodos, hemos visto como la solución mejora considerablemente a medida que vamos aplicando técnicas productivas y poco costosas. Hemos pasado de soluciones malas de 31/32 a 26 con el último método.\n",
    "\n",
    "Nunca sabremos si este es el óptimo, pero sacando calculos rápidos, vemos que hay un actor que mínimo ha de ir 4 días, tres que mínimo 3, dos que mínimo 2 y cuatro que les basta un día. Sumando esto, tenemos $4 + 3\\times 3 + 2\\times 2 + 4 \\times 1 = 21$, esto teniendo en cuenta que se puede combinar a la perfección, cosa que no ocurre porque hubiesemos encontrado esa solución mediante el algoritmo voraz. En resumen, puede que no sea la solución optima, pero es una buena solución."
   ]
  },
  {
   "cell_type": "markdown",
   "metadata": {
    "id": "eTFWUJQrtGcv"
   },
   "source": [
    "Enumera las referencias que has utilizado(si ha sido necesario) para llevar a cabo el trabajo"
   ]
  },
  {
   "cell_type": "markdown",
   "metadata": {},
   "source": [
    "La bibiliografía usada en el trabajo ha sido la siguiente:\n",
    "\n",
    "    - https://dmle.icmat.es/pdf/GACETAMATEMATICA_1974_26_3-4_02.pdf\n",
    "    - https://stackoverflow.com/questions/53419536/what-is-the-computational-complexity-of-itertools-combinations-in-python\n"
   ]
  }
 ],
 "metadata": {
  "colab": {
   "provenance": []
  },
  "kernelspec": {
   "display_name": "Python 3 (ipykernel)",
   "language": "python",
   "name": "python3"
  },
  "language_info": {
   "codemirror_mode": {
    "name": "ipython",
    "version": 3
   },
   "file_extension": ".py",
   "mimetype": "text/x-python",
   "name": "python",
   "nbconvert_exporter": "python",
   "pygments_lexer": "ipython3",
   "version": "3.11.1"
  }
 },
 "nbformat": 4,
 "nbformat_minor": 1
}
